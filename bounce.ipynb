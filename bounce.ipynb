{
 "cells": [
  {
   "cell_type": "code",
   "execution_count": 1,
   "id": "9f6c4f97",
   "metadata": {},
   "outputs": [
    {
     "name": "stdout",
     "output_type": "stream",
     "text": [
      "第 10 次反弹后的高度为： 0.09765625 米\n",
      "总路程为： 299.70703125 米\n",
      "总时间为： 25.507332660965766 秒\n"
     ]
    }
   ],
   "source": [
    "import math\n",
    "initial_height = 100.0  # 初始高度\n",
    "gravity = 9.8           # 重力加速度\n",
    "n = 10                  # 第n次掉下\n",
    "\n",
    "final_height = initial_height * (0.5 ** n)    # 计算第n次反弹的高度\n",
    "total_distance = initial_height  # 初始下落路程\n",
    "total_time = math.sqrt(2 * initial_height / gravity)  # 初始下落时间\n",
    "\n",
    "for k in range(1, n):    # 计算前n-1次的路程与时间\n",
    "    total_distance += 2 * initial_height * (0.5 ** k)    # 增加第k次反弹后的上升与下落的路程\n",
    "    height = initial_height * (0.5 ** k)    # 第k次反弹的最大高度\n",
    "    total_time += 2 * math.sqrt(2 * height / gravity)    # 增加第k次反弹后的上升与下落的路时间\n",
    "    \n",
    "total_distance += final_height    # 加上最后一次上升到最高点的路程\n",
    "total_time += math.sqrt(2 * final_height / gravity)    # 加上最后一次上升到最高点的时间\n",
    "\n",
    "print(\"第\",n,\"次反弹后的高度为：\",final_height, \"米\")    #输出结果\n",
    "print(\"总路程为：\",total_distance, \"米\")\n",
    "print(\"总时间为：\",total_time, \"秒\")"
   ]
  },
  {
   "cell_type": "code",
   "execution_count": null,
   "id": "1fe25175",
   "metadata": {},
   "outputs": [],
   "source": []
  }
 ],
 "metadata": {
  "kernelspec": {
   "display_name": "Python 3 (ipykernel)",
   "language": "python",
   "name": "python3"
  },
  "language_info": {
   "codemirror_mode": {
    "name": "ipython",
    "version": 3
   },
   "file_extension": ".py",
   "mimetype": "text/x-python",
   "name": "python",
   "nbconvert_exporter": "python",
   "pygments_lexer": "ipython3",
   "version": "3.7.12"
  }
 },
 "nbformat": 4,
 "nbformat_minor": 5
}
